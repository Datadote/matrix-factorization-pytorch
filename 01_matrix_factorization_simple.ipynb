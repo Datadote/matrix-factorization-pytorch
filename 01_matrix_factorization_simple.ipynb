{
 "cells": [
  {
   "cell_type": "code",
   "execution_count": 1,
   "id": "fb7142ed",
   "metadata": {},
   "outputs": [],
   "source": [
    "from collections import defaultdict\n",
    "\n",
    "import matplotlib.pyplot as plt\n",
    "import numpy as np\n",
    "import pandas as pd\n",
    "from sklearn.preprocessing import LabelEncoder\n",
    "\n",
    "import torch\n",
    "import torch.nn as nn\n",
    "import torch.optim as optim\n",
    "from torch.utils.data import Dataset, DataLoader"
   ]
  },
  {
   "cell_type": "code",
   "execution_count": 2,
   "id": "7c2ee170",
   "metadata": {},
   "outputs": [
    {
     "data": {
      "text/html": [
       "<div>\n",
       "<style scoped>\n",
       "    .dataframe tbody tr th:only-of-type {\n",
       "        vertical-align: middle;\n",
       "    }\n",
       "\n",
       "    .dataframe tbody tr th {\n",
       "        vertical-align: top;\n",
       "    }\n",
       "\n",
       "    .dataframe thead th {\n",
       "        text-align: right;\n",
       "    }\n",
       "</style>\n",
       "<table border=\"1\" class=\"dataframe\">\n",
       "  <thead>\n",
       "    <tr style=\"text-align: right;\">\n",
       "      <th></th>\n",
       "      <th>userId</th>\n",
       "      <th>movieId</th>\n",
       "      <th>rating</th>\n",
       "      <th>timestamp</th>\n",
       "      <th>title</th>\n",
       "      <th>genres</th>\n",
       "    </tr>\n",
       "  </thead>\n",
       "  <tbody>\n",
       "    <tr>\n",
       "      <th>0</th>\n",
       "      <td>1</td>\n",
       "      <td>804</td>\n",
       "      <td>4.0</td>\n",
       "      <td>964980499</td>\n",
       "      <td>She's the One (1996)</td>\n",
       "      <td>Comedy|Romance</td>\n",
       "    </tr>\n",
       "    <tr>\n",
       "      <th>1</th>\n",
       "      <td>1</td>\n",
       "      <td>1210</td>\n",
       "      <td>5.0</td>\n",
       "      <td>964980499</td>\n",
       "      <td>Star Wars: Episode VI - Return of the Jedi (1983)</td>\n",
       "      <td>Action|Adventure|Sci-Fi</td>\n",
       "    </tr>\n",
       "    <tr>\n",
       "      <th>2</th>\n",
       "      <td>1</td>\n",
       "      <td>2018</td>\n",
       "      <td>5.0</td>\n",
       "      <td>964980523</td>\n",
       "      <td>Bambi (1942)</td>\n",
       "      <td>Animation|Children|Drama</td>\n",
       "    </tr>\n",
       "  </tbody>\n",
       "</table>\n",
       "</div>"
      ],
      "text/plain": [
       "   userId  movieId  rating  timestamp  \\\n",
       "0       1      804     4.0  964980499   \n",
       "1       1     1210     5.0  964980499   \n",
       "2       1     2018     5.0  964980523   \n",
       "\n",
       "                                               title                    genres  \n",
       "0                               She's the One (1996)            Comedy|Romance  \n",
       "1  Star Wars: Episode VI - Return of the Jedi (1983)   Action|Adventure|Sci-Fi  \n",
       "2                                       Bambi (1942)  Animation|Children|Drama  "
      ]
     },
     "execution_count": 2,
     "metadata": {},
     "output_type": "execute_result"
    }
   ],
   "source": [
    "DATA_DIR = './data/ml-latest-small/'\n",
    "dfm = pd.read_csv(DATA_DIR+'movies.csv')\n",
    "df = pd.read_csv(DATA_DIR+'ratings.csv')\n",
    "df = df.merge(dfm, on='movieId', how='left')\n",
    "df = df.sort_values(['userId', 'timestamp'], ascending=[True, True]).reset_index(drop=True)\n",
    "df.head(3)"
   ]
  },
  {
   "cell_type": "code",
   "execution_count": 3,
   "id": "89f0851f",
   "metadata": {},
   "outputs": [
    {
     "data": {
      "image/png": "[encoded data removed]",
      "text/plain": [
       "<Figure size 500x200 with 1 Axes>"
      ]
     },
     "metadata": {},
     "output_type": "display_data"
    }
   ],
   "source": [
    "plt.figure(figsize=(5,2))\n",
    "bins = np.arange(0,6,0.5)-0.25\n",
    "plt.hist(df.rating.values, bins=bins);\n",
    "plt.xticks(np.arange(0.5, 5.5, 0.5)); plt.grid();\n",
    "plt.title('Num Ratings vs Rating');\n",
    "plt.xlabel('Rating'); plt.ylabel('Num Ratings');"
   ]
  },
  {
   "cell_type": "code",
   "execution_count": 4,
   "id": "34a0e1e7",
   "metadata": {},
   "outputs": [
    {
     "name": "stdout",
     "output_type": "stream",
     "text": [
      "# unique userId: 610\n",
      "# unique movieId: 9724\n",
      "Min # of ratings per user: 20\n",
      "Min/Max rating: 0.5/5.0, df.shape: (100836, 6)\n"
     ]
    },
    {
     "data": {
      "text/html": [
       "<div>\n",
       "<style scoped>\n",
       "    .dataframe tbody tr th:only-of-type {\n",
       "        vertical-align: middle;\n",
       "    }\n",
       "\n",
       "    .dataframe tbody tr th {\n",
       "        vertical-align: top;\n",
       "    }\n",
       "\n",
       "    .dataframe thead th {\n",
       "        text-align: right;\n",
       "    }\n",
       "</style>\n",
       "<table border=\"1\" class=\"dataframe\">\n",
       "  <thead>\n",
       "    <tr style=\"text-align: right;\">\n",
       "      <th></th>\n",
       "      <th>userId</th>\n",
       "      <th>movieId</th>\n",
       "      <th>rating</th>\n",
       "      <th>timestamp</th>\n",
       "      <th>title</th>\n",
       "      <th>genres</th>\n",
       "    </tr>\n",
       "  </thead>\n",
       "  <tbody>\n",
       "    <tr>\n",
       "      <th>0</th>\n",
       "      <td>0</td>\n",
       "      <td>632</td>\n",
       "      <td>4.0</td>\n",
       "      <td>964980499</td>\n",
       "      <td>She's the One (1996)</td>\n",
       "      <td>Comedy|Romance</td>\n",
       "    </tr>\n",
       "    <tr>\n",
       "      <th>1</th>\n",
       "      <td>0</td>\n",
       "      <td>910</td>\n",
       "      <td>5.0</td>\n",
       "      <td>964980499</td>\n",
       "      <td>Star Wars: Episode VI - Return of the Jedi (1983)</td>\n",
       "      <td>Action|Adventure|Sci-Fi</td>\n",
       "    </tr>\n",
       "    <tr>\n",
       "      <th>2</th>\n",
       "      <td>0</td>\n",
       "      <td>1492</td>\n",
       "      <td>5.0</td>\n",
       "      <td>964980523</td>\n",
       "      <td>Bambi (1942)</td>\n",
       "      <td>Animation|Children|Drama</td>\n",
       "    </tr>\n",
       "  </tbody>\n",
       "</table>\n",
       "</div>"
      ],
      "text/plain": [
       "   userId  movieId  rating  timestamp  \\\n",
       "0       0      632     4.0  964980499   \n",
       "1       0      910     5.0  964980499   \n",
       "2       0     1492     5.0  964980523   \n",
       "\n",
       "                                               title                    genres  \n",
       "0                               She's the One (1996)            Comedy|Romance  \n",
       "1  Star Wars: Episode VI - Return of the Jedi (1983)   Action|Adventure|Sci-Fi  \n",
       "2                                       Bambi (1942)  Animation|Children|Drama  "
      ]
     },
     "execution_count": 4,
     "metadata": {},
     "output_type": "execute_result"
    }
   ],
   "source": [
    "# Use LabelEncoder to convert users and movies into categorical\n",
    "# This step also remaps each column integer range to [0, len(df.column.unique())-1]\n",
    "# Remapping is useful to reduce memory size of nn.embeddings\n",
    "d = defaultdict(LabelEncoder)\n",
    "cols_cat = ['userId', 'movieId']\n",
    "for c in cols_cat:\n",
    "    d[c].fit(df[c].unique())\n",
    "    df[c] = d[c].transform(df[c])\n",
    "    print(f'# unique {c}: {len(d[c].classes_)}')\n",
    "\n",
    "min_num_ratings = df.groupby(['userId'])['userId'].transform(len).min()\n",
    "print(f'Min # of ratings per user: {min_num_ratings}')\n",
    "print(f'Min/Max rating: {df.rating.min()}/{df.rating.max()}, df.shape: {df.shape}')\n",
    "df.head(3)"
   ]
  },
  {
   "cell_type": "code",
   "execution_count": 5,
   "id": "366c5afb",
   "metadata": {},
   "outputs": [
    {
     "name": "stdout",
     "output_type": "stream",
     "text": [
      "(97786, 6) (3050, 6)\n"
     ]
    }
   ],
   "source": [
    "# Make train and val dataset\n",
    "# 610 unique users. Each user has minimum 20 rated movies\n",
    "# For val dataset, use last 5 rated movies per user\n",
    "df_train = df.groupby('userId').head(-5).reset_index(drop=True)\n",
    "df_val = df.groupby('userId').tail(5).reset_index(drop=True)\n",
    "print(df_train.shape, df_val.shape)"
   ]
  },
  {
   "cell_type": "code",
   "execution_count": 6,
   "id": "7eb9a2b2",
   "metadata": {},
   "outputs": [],
   "source": [
    "class MovieDataset(Dataset):\n",
    "    def __init__(self, df):\n",
    "        self.df = df[['userId', 'movieId', 'rating']]\n",
    "        self.x = [x for x in zip(df.userId.values, df.movieId.values)]\n",
    "        self.y = self.df.rating.values\n",
    "    def __len__(self):\n",
    "        return len(self.df)\n",
    "    def __getitem__(self, idx):\n",
    "        return self.x[idx], self.y[idx]"
   ]
  },
  {
   "cell_type": "code",
   "execution_count": 7,
   "id": "c15d12e3",
   "metadata": {},
   "outputs": [
    {
     "data": {
      "text/plain": [
       "([tensor([ 74, 122, 447,  ..., 176, 609,   9]),\n",
       "  tensor([ 905, 1938, 8067,  ..., 2697, 1374, 8988])],\n",
       " tensor([3.5000, 4.0000, 3.0000,  ..., 3.0000, 5.0000, 5.0000],\n",
       "        dtype=torch.float64))"
      ]
     },
     "execution_count": 7,
     "metadata": {},
     "output_type": "execute_result"
    }
   ],
   "source": [
    "bs = 8192\n",
    "ds_train = MovieDataset(df_train)\n",
    "ds_val = MovieDataset(df_val)\n",
    "dl_train = DataLoader(ds_train, bs, shuffle=True, num_workers=4)\n",
    "dl_val = DataLoader(ds_val, bs, shuffle=True, num_workers=4)\n",
    "\n",
    "xb, yb = next(iter(dl_train))\n",
    "xb, yb"
   ]
  },
  {
   "cell_type": "code",
   "execution_count": 8,
   "id": "5a605691",
   "metadata": {},
   "outputs": [],
   "source": [
    "class MF(nn.Module):\n",
    "    def __init__(self, num_users, num_items, emb_dim):\n",
    "        super().__init__()\n",
    "        self.user_emb = nn.Embedding(num_embeddings=num_users, embedding_dim=emb_dim)\n",
    "        self.item_emb = nn.Embedding(num_embeddings=num_items, embedding_dim=emb_dim)\n",
    "    def forward(self, user, item):\n",
    "        user_emb = self.user_emb(user)\n",
    "        item_emb = self.item_emb(item)\n",
    "        element_product = (user_emb*item_emb).sum(1)\n",
    "        return element_product"
   ]
  },
  {
   "cell_type": "code",
   "execution_count": 9,
   "id": "bb34866f",
   "metadata": {},
   "outputs": [
    {
     "data": {
      "text/plain": [
       "MF(\n",
       "  (user_emb): Embedding(610, 32)\n",
       "  (item_emb): Embedding(9724, 32)\n",
       ")"
      ]
     },
     "execution_count": 9,
     "metadata": {},
     "output_type": "execute_result"
    }
   ],
   "source": [
    "num_users = len(df.userId.unique())\n",
    "num_items = len(df.movieId.unique())\n",
    "mdl = MF(num_users, num_items, emb_dim=32)\n",
    "mdl"
   ]
  },
  {
   "cell_type": "code",
   "execution_count": 10,
   "id": "136ebac5",
   "metadata": {},
   "outputs": [
    {
     "name": "stdout",
     "output_type": "stream",
     "text": [
      "Epoch: 0, Train Loss: 25.5, Val Loss:21.2\n",
      "Epoch: 1, Train Loss: 7.2, Val Loss:11.9\n",
      "Epoch: 2, Train Loss: 3.4, Val Loss:6.9\n",
      "Epoch: 3, Train Loss: 1.8, Val Loss:4.7\n",
      "Epoch: 4, Train Loss: 1.1, Val Loss:3.7\n",
      "Epoch: 5, Train Loss: 0.8, Val Loss:3.3\n",
      "Epoch: 6, Train Loss: 0.7, Val Loss:3.1\n",
      "Epoch: 7, Train Loss: 0.6, Val Loss:3.1\n",
      "Epoch: 8, Train Loss: 0.5, Val Loss:3.1\n",
      "Epoch: 9, Train Loss: 0.5, Val Loss:3.0\n"
     ]
    }
   ],
   "source": [
    "lr = 0.2\n",
    "num_epochs = 10\n",
    "\n",
    "opt = optim.Adam(mdl.parameters(), lr=lr)\n",
    "loss_fn = nn.MSELoss()\n",
    "epoch_train_losses, epoch_val_losses = [], []\n",
    "\n",
    "for i in range(num_epochs):\n",
    "    train_losses, val_losses = [], []\n",
    "    \n",
    "    mdl.train()\n",
    "    for xb,yb in dl_train:\n",
    "        xUser, xItem = xb[0].long(), xb[1].long()\n",
    "        yRatings = yb.float()\n",
    "        preds = mdl(xUser, xItem)\n",
    "        loss = loss_fn(preds, yRatings)\n",
    "        train_losses.append(loss.item())\n",
    "        opt.zero_grad()\n",
    "        loss.backward()\n",
    "        opt.step()\n",
    "        \n",
    "    mdl.eval()\n",
    "    for xb,yb in dl_val:\n",
    "        xUser, xItem = xb[0].long(), xb[1].long()\n",
    "        yRatings = yb.float()\n",
    "        preds = mdl(xUser, xItem)\n",
    "        loss = loss_fn(preds, yRatings)\n",
    "        val_losses.append(loss.item())\n",
    "        \n",
    "    epoch_train_loss = np.mean(train_losses)\n",
    "    epoch_val_loss = np.mean(val_losses)\n",
    "    epoch_train_losses.append(epoch_train_loss)\n",
    "    epoch_val_losses.append(epoch_val_loss)\n",
    "    print(f'Epoch: {i}, Train Loss: {epoch_train_loss:0.1f}, Val Loss:{epoch_val_loss:0.1f}')"
   ]
  },
  {
   "cell_type": "code",
   "execution_count": 11,
   "id": "2281e5c1",
   "metadata": {},
   "outputs": [
    {
     "data": {
      "image/png": "[encoded data removed]",
      "text/plain": [
       "<Figure size 500x200 with 1 Axes>"
      ]
     },
     "metadata": {},
     "output_type": "display_data"
    }
   ],
   "source": [
    "plt.figure(figsize=(5,2))\n",
    "plt.plot(epoch_train_losses, label='Train')\n",
    "plt.plot(epoch_val_losses, label='Val')\n",
    "plt.title('Loss vs Epoch');\n",
    "plt.xlabel('Epoch'); plt.ylabel('Loss')\n",
    "plt.grid(); plt.legend();"
   ]
  },
  {
   "cell_type": "code",
   "execution_count": 12,
   "id": "baec542a",
   "metadata": {},
   "outputs": [
    {
     "name": "stdout",
     "output_type": "stream",
     "text": [
      "Emb user min/max w: -2.529 / 2.646\n",
      "Emb item min/max w: -6.897 / 6.557\n",
      "Preds min/max: -5.02 / 14.40\n",
      "Rating min/max: 0.50 / 5.00\n",
      "[1.4845339 4.20778   3.5969088 3.3696399 3.3176925 3.9816945]\n",
      "[2.  4.5 3.  3.5 5.  4. ]\n"
     ]
    }
   ],
   "source": [
    "user_emb_min_w = mdl.user_emb.weight.min().item()\n",
    "user_emb_max_w = mdl.user_emb.weight.max().item()\n",
    "item_emb_min_w = mdl.item_emb.weight.min().item()\n",
    "item_emb_max_w = mdl.item_emb.weight.max().item()\n",
    "print(f'Emb user min/max w: {user_emb_min_w:0.3f} / {user_emb_max_w:0.3f}')\n",
    "print(f'Emb item min/max w: {item_emb_min_w:0.3f} / {item_emb_max_w:0.3f}')\n",
    "print(f'Preds min/max: {preds.min().item():0.2f} / {preds.max().item():0.2f}')\n",
    "print(f'Rating min/max: {yRatings.min().item():0.2f} / {yRatings.max().item():0.2f}')\n",
    "print(preds.detach().numpy()[:6])\n",
    "print(yRatings.detach().numpy()[:6])"
   ]
  },
  {
   "cell_type": "code",
   "execution_count": null,
   "id": "f1757976",
   "metadata": {},
   "outputs": [],
   "source": []
  }
 ],
 "metadata": {
  "kernelspec": {
   "display_name": "Python 3 (ipykernel)",
   "language": "python",
   "name": "python3"
  },
  "language_info": {
   "codemirror_mode": {
    "name": "ipython",
    "version": 3
   },
   "file_extension": ".py",
   "mimetype": "text/x-python",
   "name": "python",
   "nbconvert_exporter": "python",
   "pygments_lexer": "ipython3",
   "version": "3.8.13"
  }
 },
 "nbformat": 4,
 "nbformat_minor": 5
}

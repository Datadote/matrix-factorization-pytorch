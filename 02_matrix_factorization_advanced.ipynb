{
 "cells": [
  {
   "cell_type": "code",
   "execution_count": 1,
   "id": "fb7142ed",
   "metadata": {},
   "outputs": [],
   "source": [
    "from collections import defaultdict\n",
    "\n",
    "import matplotlib.pyplot as plt\n",
    "import numpy as np\n",
    "import pandas as pd\n",
    "from sklearn.preprocessing import LabelEncoder\n",
    "from sklearn.metrics import precision_score, recall_score, f1_score\n",
    "\n",
    "import torch\n",
    "from torch import nn, optim\n",
    "from torch.utils.data import Dataset, DataLoader\n",
    "device = torch.device('cuda' if torch.cuda.is_available() else 'cpu')"
   ]
  },
  {
   "cell_type": "code",
   "execution_count": 2,
   "id": "10916e3b",
   "metadata": {},
   "outputs": [],
   "source": [
    "CFG = {\n",
    "    'sigmoid': True,\n",
    "    'bias': True,\n",
    "    'init': True,\n",
    "    'lr': 0.005,\n",
    "    'num_epochs': 10,\n",
    "}"
   ]
  },
  {
   "cell_type": "code",
   "execution_count": 3,
   "id": "7c2ee170",
   "metadata": {},
   "outputs": [
    {
     "data": {
      "text/html": [
       "<div>\n",
       "<style scoped>\n",
       "    .dataframe tbody tr th:only-of-type {\n",
       "        vertical-align: middle;\n",
       "    }\n",
       "\n",
       "    .dataframe tbody tr th {\n",
       "        vertical-align: top;\n",
       "    }\n",
       "\n",
       "    .dataframe thead th {\n",
       "        text-align: right;\n",
       "    }\n",
       "</style>\n",
       "<table border=\"1\" class=\"dataframe\">\n",
       "  <thead>\n",
       "    <tr style=\"text-align: right;\">\n",
       "      <th></th>\n",
       "      <th>userId</th>\n",
       "      <th>movieId</th>\n",
       "      <th>rating</th>\n",
       "      <th>timestamp</th>\n",
       "      <th>title</th>\n",
       "      <th>genres</th>\n",
       "    </tr>\n",
       "  </thead>\n",
       "  <tbody>\n",
       "    <tr>\n",
       "      <th>0</th>\n",
       "      <td>1</td>\n",
       "      <td>804</td>\n",
       "      <td>4.0</td>\n",
       "      <td>964980499</td>\n",
       "      <td>She's the One (1996)</td>\n",
       "      <td>Comedy|Romance</td>\n",
       "    </tr>\n",
       "    <tr>\n",
       "      <th>1</th>\n",
       "      <td>1</td>\n",
       "      <td>1210</td>\n",
       "      <td>5.0</td>\n",
       "      <td>964980499</td>\n",
       "      <td>Star Wars: Episode VI - Return of the Jedi (1983)</td>\n",
       "      <td>Action|Adventure|Sci-Fi</td>\n",
       "    </tr>\n",
       "    <tr>\n",
       "      <th>2</th>\n",
       "      <td>1</td>\n",
       "      <td>2018</td>\n",
       "      <td>5.0</td>\n",
       "      <td>964980523</td>\n",
       "      <td>Bambi (1942)</td>\n",
       "      <td>Animation|Children|Drama</td>\n",
       "    </tr>\n",
       "  </tbody>\n",
       "</table>\n",
       "</div>"
      ],
      "text/plain": [
       "   userId  movieId  rating  timestamp  \\\n",
       "0       1      804     4.0  964980499   \n",
       "1       1     1210     5.0  964980499   \n",
       "2       1     2018     5.0  964980523   \n",
       "\n",
       "                                               title                    genres  \n",
       "0                               She's the One (1996)            Comedy|Romance  \n",
       "1  Star Wars: Episode VI - Return of the Jedi (1983)   Action|Adventure|Sci-Fi  \n",
       "2                                       Bambi (1942)  Animation|Children|Drama  "
      ]
     },
     "execution_count": 3,
     "metadata": {},
     "output_type": "execute_result"
    }
   ],
   "source": [
    "DATA_DIR = './data/ml-latest-small/'\n",
    "dfm = pd.read_csv(DATA_DIR+'movies.csv')\n",
    "df = pd.read_csv(DATA_DIR+'ratings.csv')\n",
    "df = df.merge(dfm, on='movieId', how='left')\n",
    "df = df.sort_values(['userId', 'timestamp'], ascending=[True, True])\n",
    "df = df.reset_index(drop=True)\n",
    "df.head(3)"
   ]
  },
  {
   "cell_type": "code",
   "execution_count": 4,
   "id": "acd815ac",
   "metadata": {},
   "outputs": [
    {
     "data": {
      "image/png": "[encoded data removed]",
      "text/plain": [
       "<Figure size 500x200 with 1 Axes>"
      ]
     },
     "metadata": {},
     "output_type": "display_data"
    }
   ],
   "source": [
    "plt.figure(figsize=(5,2))\n",
    "bins = np.arange(0,6,0.5)-0.25\n",
    "plt.hist(df.rating.values, bins=bins)\n",
    "plt.xticks(np.arange(0.5, 5.5, 0.5))\n",
    "plt.title('Num Ratings vs Rating')\n",
    "plt.xlabel('Rating')\n",
    "plt.ylabel('Num Ratings')\n",
    "plt.grid();"
   ]
  },
  {
   "cell_type": "code",
   "execution_count": 5,
   "id": "34a0e1e7",
   "metadata": {},
   "outputs": [
    {
     "name": "stdout",
     "output_type": "stream",
     "text": [
      "# unique userId: 610\n",
      "# unique movieId: 9724\n",
      "Min # of ratings per user: 20\n",
      "Min/Max rating: 0.5/5.0\n",
      "df.shape: (100836, 6)\n"
     ]
    },
    {
     "data": {
      "text/html": [
       "<div>\n",
       "<style scoped>\n",
       "    .dataframe tbody tr th:only-of-type {\n",
       "        vertical-align: middle;\n",
       "    }\n",
       "\n",
       "    .dataframe tbody tr th {\n",
       "        vertical-align: top;\n",
       "    }\n",
       "\n",
       "    .dataframe thead th {\n",
       "        text-align: right;\n",
       "    }\n",
       "</style>\n",
       "<table border=\"1\" class=\"dataframe\">\n",
       "  <thead>\n",
       "    <tr style=\"text-align: right;\">\n",
       "      <th></th>\n",
       "      <th>userId</th>\n",
       "      <th>movieId</th>\n",
       "      <th>rating</th>\n",
       "      <th>timestamp</th>\n",
       "      <th>title</th>\n",
       "      <th>genres</th>\n",
       "    </tr>\n",
       "  </thead>\n",
       "  <tbody>\n",
       "    <tr>\n",
       "      <th>0</th>\n",
       "      <td>0</td>\n",
       "      <td>632</td>\n",
       "      <td>4.0</td>\n",
       "      <td>964980499</td>\n",
       "      <td>She's the One (1996)</td>\n",
       "      <td>Comedy|Romance</td>\n",
       "    </tr>\n",
       "    <tr>\n",
       "      <th>1</th>\n",
       "      <td>0</td>\n",
       "      <td>910</td>\n",
       "      <td>5.0</td>\n",
       "      <td>964980499</td>\n",
       "      <td>Star Wars: Episode VI - Return of the Jedi (1983)</td>\n",
       "      <td>Action|Adventure|Sci-Fi</td>\n",
       "    </tr>\n",
       "    <tr>\n",
       "      <th>2</th>\n",
       "      <td>0</td>\n",
       "      <td>1492</td>\n",
       "      <td>5.0</td>\n",
       "      <td>964980523</td>\n",
       "      <td>Bambi (1942)</td>\n",
       "      <td>Animation|Children|Drama</td>\n",
       "    </tr>\n",
       "  </tbody>\n",
       "</table>\n",
       "</div>"
      ],
      "text/plain": [
       "   userId  movieId  rating  timestamp  \\\n",
       "0       0      632     4.0  964980499   \n",
       "1       0      910     5.0  964980499   \n",
       "2       0     1492     5.0  964980523   \n",
       "\n",
       "                                               title                    genres  \n",
       "0                               She's the One (1996)            Comedy|Romance  \n",
       "1  Star Wars: Episode VI - Return of the Jedi (1983)   Action|Adventure|Sci-Fi  \n",
       "2                                       Bambi (1942)  Animation|Children|Drama  "
      ]
     },
     "execution_count": 5,
     "metadata": {},
     "output_type": "execute_result"
    }
   ],
   "source": [
    "# Use LabelEncoder to convert users and movies into categorical\n",
    "# This step remaps each column integer range to [0, len(df.column.unique())-1]\n",
    "# Remapping is useful to reduce memory size of nn.embeddings\n",
    "d = defaultdict(LabelEncoder)\n",
    "cols_cat = ['userId', 'movieId']\n",
    "for c in cols_cat:\n",
    "    d[c].fit(df[c].unique())\n",
    "    df[c] = d[c].transform(df[c])\n",
    "    print(f'# unique {c}: {len(d[c].classes_)}')\n",
    "\n",
    "min_num_ratings = df.groupby(['userId'])['userId'].transform(len).min()\n",
    "print(f'Min # of ratings per user: {min_num_ratings}')\n",
    "print(f'Min/Max rating: {df.rating.min()}/{df.rating.max()}')\n",
    "print(f'df.shape: {df.shape}')\n",
    "df.head(3)"
   ]
  },
  {
   "cell_type": "code",
   "execution_count": 6,
   "id": "366c5afb",
   "metadata": {},
   "outputs": [
    {
     "name": "stdout",
     "output_type": "stream",
     "text": [
      "(97786, 6) (3050, 6)\n"
     ]
    }
   ],
   "source": [
    "# Make train and val dataset\n",
    "# 610 unique users. Each user has minimum 20 rated movies\n",
    "# For val dataset, use last 5 rated movies per user\n",
    "df_train = df.groupby('userId').head(-5).reset_index(drop=True)\n",
    "df_val = df.groupby('userId').tail(5).reset_index(drop=True)\n",
    "print(df_train.shape, df_val.shape)"
   ]
  },
  {
   "cell_type": "code",
   "execution_count": 7,
   "id": "7eb9a2b2",
   "metadata": {},
   "outputs": [],
   "source": [
    "class MovieDataset(Dataset):\n",
    "    def __init__(self, df):\n",
    "        self.df = df[['userId', 'movieId', 'rating']]\n",
    "        self.x_user_movie = list(zip(df.userId.values, df.movieId.values))\n",
    "        self.y_rating = self.df.rating.values\n",
    "    def __len__(self):\n",
    "        return len(self.df)\n",
    "    def __getitem__(self, idx):\n",
    "        return self.x_user_movie[idx], self.y_rating[idx]"
   ]
  },
  {
   "cell_type": "code",
   "execution_count": 8,
   "id": "c15d12e3",
   "metadata": {},
   "outputs": [
    {
     "name": "stdout",
     "output_type": "stream",
     "text": [
      "[tensor([129, 259, 599,  ..., 300,  97, 293]), tensor([ 512,   98, 1443,  ...,  334, 6968,  263])]\n",
      "tensor([2.0000, 5.0000, 5.0000,  ..., 2.5000, 4.0000, 3.0000],\n",
      "       dtype=torch.float64)\n"
     ]
    }
   ],
   "source": [
    "BS = 8192\n",
    "ds_train = MovieDataset(df_train)\n",
    "ds_val = MovieDataset(df_val)\n",
    "dl_train = DataLoader(ds_train, BS, shuffle=True, num_workers=4)\n",
    "dl_val = DataLoader(ds_val, BS, shuffle=True, num_workers=4)\n",
    "\n",
    "xb, yb = next(iter(dl_train))\n",
    "print(xb)\n",
    "print(yb)"
   ]
  },
  {
   "cell_type": "code",
   "execution_count": 9,
   "id": "5a605691",
   "metadata": {},
   "outputs": [],
   "source": [
    "def sigmoid_range(x, low, high):\n",
    "    \"\"\" Sigmoid function with range (low, high) \"\"\"\n",
    "    return torch.sigmoid(x) * (high-low) + low\n",
    "\n",
    "class MFAdvanced(nn.Module):\n",
    "    \"\"\" Matrix factorization + user & item bias, weight init., sigmoid_range \"\"\"\n",
    "    def __init__(self, num_users, num_items, emb_dim, init, bias, sigmoid):\n",
    "        super().__init__()\n",
    "        self.bias = bias\n",
    "        self.sigmoid = sigmoid\n",
    "        self.user_emb = nn.Embedding(num_users, emb_dim)\n",
    "        self.item_emb = nn.Embedding(num_items, emb_dim)\n",
    "        if bias:\n",
    "            self.user_bias = nn.Parameter(torch.zeros(num_users))\n",
    "            self.item_bias = nn.Parameter(torch.zeros(num_items))\n",
    "            self.offset = nn.Parameter(torch.zeros(1))\n",
    "        if init:\n",
    "            self.user_emb.weight.data.uniform_(0., 0.05)\n",
    "            self.item_emb.weight.data.uniform_(0., 0.05)\n",
    "    def forward(self, user, item):\n",
    "        user_emb = self.user_emb(user)\n",
    "        item_emb = self.item_emb(item)\n",
    "        element_product = (user_emb*item_emb).sum(1)\n",
    "        if self.bias:\n",
    "            user_b = self.user_bias[user]\n",
    "            item_b = self.item_bias[item]\n",
    "            element_product += user_b + item_b + self.offset\n",
    "        if self.sigmoid:\n",
    "            return sigmoid_range(element_product, 0, 5.5)\n",
    "        return element_product"
   ]
  },
  {
   "cell_type": "code",
   "execution_count": 10,
   "id": "2cb78b80",
   "metadata": {},
   "outputs": [],
   "source": [
    "def round_to_0p5(list_nums):\n",
    "    \"\"\" Helper func to round nums to nearest 0.5, eg 1.45 -> 1.5 \"\"\"\n",
    "    return np.round(np.array(list_nums)*2)/2"
   ]
  },
  {
   "cell_type": "code",
   "execution_count": 11,
   "id": "bb34866f",
   "metadata": {},
   "outputs": [
    {
     "name": "stdout",
     "output_type": "stream",
     "text": [
      "dict_keys(['user_bias', 'item_bias', 'offset', 'user_emb.weight', 'item_emb.weight'])\n"
     ]
    }
   ],
   "source": [
    "n_users = len(df.userId.unique())\n",
    "n_items = len(df.movieId.unique())\n",
    "mdl = MFAdvanced(n_users, n_items, emb_dim=32,\n",
    "                 init=CFG['init'],\n",
    "                 bias=CFG['bias'],\n",
    "                 sigmoid=CFG['sigmoid'],\n",
    ")\n",
    "mdl.to(device)\n",
    "print(dict(mdl.named_parameters()).keys())"
   ]
  },
  {
   "cell_type": "code",
   "execution_count": 12,
   "id": "136ebac5",
   "metadata": {},
   "outputs": [
    {
     "name": "stdout",
     "output_type": "stream",
     "text": [
      "Epoch: 0, Train Loss: 1.4, Val Loss: 1.4, F1: 0.05, prec.: 0.11, rec: 0.04\n",
      "Epoch: 1, Train Loss: 0.9, Val Loss: 1.0, F1: 0.08, prec.: 0.12, rec: 0.08\n",
      "Epoch: 2, Train Loss: 0.8, Val Loss: 0.9, F1: 0.12, prec.: 0.14, rec: 0.12\n",
      "Epoch: 3, Train Loss: 0.7, Val Loss: 0.9, F1: 0.13, prec.: 0.15, rec: 0.22\n",
      "Epoch: 4, Train Loss: 0.7, Val Loss: 0.9, F1: 0.13, prec.: 0.15, rec: 0.20\n",
      "Epoch: 5, Train Loss: 0.6, Val Loss: 0.9, F1: 0.14, prec.: 0.16, rec: 0.20\n",
      "Epoch: 6, Train Loss: 0.6, Val Loss: 0.9, F1: 0.14, prec.: 0.16, rec: 0.30\n",
      "Epoch: 7, Train Loss: 0.6, Val Loss: 0.9, F1: 0.14, prec.: 0.15, rec: 0.27\n",
      "Epoch: 8, Train Loss: 0.6, Val Loss: 0.9, F1: 0.14, prec.: 0.16, rec: 0.27\n",
      "Epoch: 9, Train Loss: 0.6, Val Loss: 0.9, F1: 0.14, prec.: 0.16, rec: 0.26\n"
     ]
    }
   ],
   "source": [
    "opt = optim.Adam(mdl.parameters(), lr=CFG['lr'])\n",
    "loss_fn = nn.MSELoss()\n",
    "epoch_train_losses, epoch_val_losses = [], []\n",
    "\n",
    "for i in range(CFG['num_epochs']):\n",
    "    train_losses, val_losses = [], []\n",
    "    mdl.train()\n",
    "    for xb,yb in dl_train:\n",
    "        xUser = xb[0].to(device, dtype=torch.long)\n",
    "        xItem = xb[1].to(device, dtype=torch.long)\n",
    "        yRatings = yb.to(device, dtype=torch.float)\n",
    "        preds = mdl(xUser, xItem)\n",
    "        loss = loss_fn(preds, yRatings)\n",
    "        train_losses.append(loss.item())\n",
    "        opt.zero_grad()\n",
    "        loss.backward()\n",
    "        opt.step()\n",
    "    lpreds, lratings = [], []\n",
    "    mdl.eval()\n",
    "    for xb,yb in dl_val:\n",
    "        xUser = xb[0].to(device, dtype=torch.long)\n",
    "        xItem = xb[1].to(device, dtype=torch.long)\n",
    "        yRatings = yb.to(device, dtype=torch.float)\n",
    "        preds = mdl(xUser, xItem)\n",
    "        loss = loss_fn(preds, yRatings)\n",
    "        val_losses.append(loss.item())\n",
    "        # Start F1, precision, recall calculation\n",
    "        lpreds.extend(preds.detach().cpu().numpy().tolist())\n",
    "        lratings.extend(yRatings.detach().cpu().numpy().tolist())\n",
    "    # Start logging\n",
    "    epoch_train_loss = np.mean(train_losses)\n",
    "    epoch_val_loss = np.mean(val_losses)\n",
    "    epoch_train_losses.append(epoch_train_loss)\n",
    "    epoch_val_losses.append(epoch_val_loss)\n",
    "    # For f1, precision, recall -> round preds to 0.5 and multiply by 2.\n",
    "    # This turns fractional values to integers. Eg 1.34 -> 1.5 -> 3\n",
    "    y_true = round_to_0p5(lpreds)*2\n",
    "    y_hat = np.array(lratings)*2\n",
    "    f1 = f1_score(y_true, y_hat, average='macro', zero_division=0)\n",
    "    precision = precision_score(y_true, y_hat, average='macro', zero_division=0)\n",
    "    recall = recall_score(y_true, y_hat, average='macro', zero_division=0)\n",
    "    s = (f'Epoch: {i}, Train Loss: {epoch_train_loss:0.1f}, '\n",
    "         f'Val Loss: {epoch_val_loss:0.1f}, F1: {f1:0.2f}, '\n",
    "         f'prec.: {precision:0.2f}, rec: {recall:0.2f}')\n",
    "    print(s)"
   ]
  },
  {
   "cell_type": "code",
   "execution_count": 13,
   "id": "97684797",
   "metadata": {},
   "outputs": [
    {
     "data": {
      "image/png": "[encoded data removed]",
      "text/plain": [
       "<Figure size 500x200 with 1 Axes>"
      ]
     },
     "metadata": {},
     "output_type": "display_data"
    }
   ],
   "source": [
    "plt.figure(figsize=(5,2))\n",
    "plt.plot(epoch_train_losses, label='Train')\n",
    "plt.plot(epoch_val_losses, label='Val')\n",
    "plt.title('Loss vs Epoch')\n",
    "plt.xlabel('Epoch')\n",
    "plt.ylabel('Loss')\n",
    "plt.grid()\n",
    "plt.legend();"
   ]
  },
  {
   "cell_type": "code",
   "execution_count": 14,
   "id": "688cc401",
   "metadata": {},
   "outputs": [
    {
     "name": "stdout",
     "output_type": "stream",
     "text": [
      "Emb user min/max w: -0.469 / 0.587\n",
      "Emb item min/max w: -0.315 / 0.374\n",
      "Preds min/max: 0.92 / 5.21\n",
      "Rating min/max: 0.50 / 5.00\n",
      "[2.6423452 4.2928085 2.397642  3.4263868 4.449684  3.8169198]\n",
      "[3.  5.  2.  4.  4.  4.5]\n"
     ]
    }
   ],
   "source": [
    "user_emb_min_w = mdl.user_emb.weight.min().item()\n",
    "user_emb_max_w = mdl.user_emb.weight.max().item()\n",
    "item_emb_min_w = mdl.item_emb.weight.min().item()\n",
    "item_emb_max_w = mdl.item_emb.weight.max().item()\n",
    "print(f'Emb user min/max w: {user_emb_min_w:0.3f} / {user_emb_max_w:0.3f}')\n",
    "print(f'Emb item min/max w: {item_emb_min_w:0.3f} / {item_emb_max_w:0.3f}')\n",
    "print(f'Preds min/max: {preds.min().item():0.2f} / {preds.max().item():0.2f}')\n",
    "y_rate_min, y_rate_max = yRatings.min().item(), yRatings.max().item()\n",
    "print(f'Rating min/max: {y_rate_min:0.2f} / {y_rate_max:0.2f}')\n",
    "print(preds.detach().cpu().numpy()[:6])\n",
    "print(yRatings.detach().cpu().numpy()[:6])"
   ]
  },
  {
   "cell_type": "code",
   "execution_count": null,
   "id": "6f1d77fd",
   "metadata": {},
   "outputs": [],
   "source": []
  }
 ],
 "metadata": {
  "kernelspec": {
   "display_name": "Python 3 (ipykernel)",
   "language": "python",
   "name": "python3"
  },
  "language_info": {
   "codemirror_mode": {
    "name": "ipython",
    "version": 3
   },
   "file_extension": ".py",
   "mimetype": "text/x-python",
   "name": "python",
   "nbconvert_exporter": "python",
   "pygments_lexer": "ipython3",
   "version": "3.8.13"
  }
 },
 "nbformat": 4,
 "nbformat_minor": 5
}
